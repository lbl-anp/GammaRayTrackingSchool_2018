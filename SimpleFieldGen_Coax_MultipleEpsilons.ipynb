{
 "cells": [
  {
   "cell_type": "code",
   "execution_count": 564,
   "metadata": {
    "collapsed": true
   },
   "outputs": [],
   "source": [
    "# SimpleFieldGen_Coax_MultipleEpsilons\n",
    "# Ren Cooper, LBNL\n",
    "# Gamma-Ray Tracking School, ORNL, October 2018\n",
    "#\n",
    "# very simple Potential solver for a coaxial HPGe detector via SOR method\n",
    "#\n",
    "#  - 2D, radial symmetry around core\n",
    "#  - does not handle depletion\n",
    "#  - handles multiple dielectrics but is a work in progress!\n",
    "#    (http://www.ece.utah.edu/~ece6340/LECTURES/Feb1/Nagel%202012%20-%20Solving%20the%20Generalized%20Poisson%20Equation%20using%20FDM.pdf)"
   ]
  },
  {
   "cell_type": "code",
   "execution_count": 565,
   "metadata": {
    "collapsed": true
   },
   "outputs": [],
   "source": [
    "%matplotlib inline\n",
    "%reset -f"
   ]
  },
  {
   "cell_type": "code",
   "execution_count": 566,
   "metadata": {
    "collapsed": true
   },
   "outputs": [],
   "source": [
    "import numpy as np\n",
    "from matplotlib import pyplot as plt"
   ]
  },
  {
   "cell_type": "code",
   "execution_count": 567,
   "metadata": {
    "collapsed": true
   },
   "outputs": [],
   "source": [
    "# set some detector parameters\n",
    "detector_length_mm = 90.0\n",
    "detector_radius_mm = 40.0\n",
    "pixel_size_mm = 1.0\n",
    "\n",
    "core_length_mm = 40.0\n",
    "core_radius_mm = 12.0\n",
    "\n",
    "wrap_around_mm = 10.0\n",
    "\n",
    "outer_contact_bias = 1000.0\n",
    "core_contact_bias = 0.0\n",
    "\n",
    "charge_density_zero = 2.0\n",
    "charge_density_gradient = 0.5"
   ]
  },
  {
   "cell_type": "code",
   "execution_count": 568,
   "metadata": {
    "collapsed": true
   },
   "outputs": [],
   "source": [
    "# build (uniform) 2D grids for plotting and solving\n",
    "x_range = np.arange(0, detector_radius_mm + pixel_size_mm, pixel_size_mm)\n",
    "y_range = np.arange(0, detector_length_mm + pixel_size_mm, pixel_size_mm)\n",
    "\n",
    "# for solving\n",
    "N_xelements = np.shape(x_range)[0]\n",
    "N_yelements = np.shape(y_range)[0]\n",
    "V = np.zeros((N_xelements, N_yelements), dtype=float)\n"
   ]
  },
  {
   "cell_type": "code",
   "execution_count": 569,
   "metadata": {
    "collapsed": true
   },
   "outputs": [],
   "source": [
    "# build a little map of geometry for later\n",
    "# Ge = 0, outer contact = 1, core = 2, passivated face = 3\n",
    "geom_map = np.zeros((N_xelements, N_yelements), dtype=int)\n",
    "\n",
    "# outer contact\n",
    "geom_map[(N_xelements-1),:] = 1\n",
    "geom_map[:,(N_yelements-1)] = 1\n",
    "\n",
    "# outer contact wrap around\n",
    "ix = np.where(x_range>=(detector_radius_mm-wrap_around_mm))\n",
    "geom_map[ix,0] = 1\n",
    "\n",
    "# control the passivated back face if you like\n",
    "#ix = np.where((x_range>core_radius_mm) & (x_range<(detector_radius_mm-wrap_around_mm)))\n",
    "#geom_map[ix,0] = 3"
   ]
  },
  {
   "cell_type": "code",
   "execution_count": 570,
   "metadata": {
    "collapsed": true
   },
   "outputs": [],
   "source": [
    "# set up charge distribution through xtal\n",
    "charge = np.zeros((N_xelements, N_yelements), dtype=float)\n",
    "epsilon = np.zeros((N_xelements, N_yelements), dtype=float)\n",
    "pixels_to_cm = 10/pixel_size_mm\n",
    "\n",
    "for x in range(0, N_xelements):\n",
    "    for y in range(0, N_yelements):\n",
    "        charge[x,y] = charge_density_zero + charge_density_gradient*(y/pixels_to_cm)\n",
    "        epsilon[x,y] = 16.0\n",
    "        \n",
    "        # core\n",
    "        if (x_range[x]<core_radius_mm and y_range[y]<core_length_mm):\n",
    "            charge[x,y] = 0.0\n",
    "            geom_map[x,y] = 2\n",
    "            epsilon[x,y] = 1.0\n"
   ]
  },
  {
   "cell_type": "code",
   "execution_count": 571,
   "metadata": {
    "collapsed": false
   },
   "outputs": [
    {
     "data": {
      "text/plain": [
       "<matplotlib.colorbar.Colorbar at 0x12658b9e8>"
      ]
     },
     "execution_count": 571,
     "metadata": {},
     "output_type": "execute_result"
    },
    {
     "data": {
      "image/png": "[encoded data removed]",
      "text/plain": [
       "<matplotlib.figure.Figure at 0x12645f4e0>"
      ]
     },
     "metadata": {},
     "output_type": "display_data"
    }
   ],
   "source": [
    "# view the geometry\n",
    "plt.contourf(geom_map)\n",
    "ax = plt.axes()\n",
    "plt.minorticks_on()\n",
    "plt.grid(\"on\")\n",
    "plt.xlabel('Pixel #')\n",
    "plt.ylabel('Pixel #')\n",
    "plt.show()"
   ]
  },
  {
   "cell_type": "code",
   "execution_count": 572,
   "metadata": {
    "collapsed": true
   },
   "outputs": [],
   "source": [
    "# set boundary conditions and initial guess at solution\n",
    "\n",
    "# initial guess at solution\n",
    "for x in range(0, N_xelements):\n",
    "    for y in range(0, N_yelements):\n",
    "        V[x,y] = outer_contact_bias*x / N_xelements\n",
    "\n",
    "# outer contact\n",
    "x,y = np.where(geom_map==1)\n",
    "V[x,y] = outer_contact_bias\n",
    "\n",
    "# core\n",
    "x,y = np.where(geom_map==2)\n",
    "V[x,y] = core_contact_bias\n",
    "\n",
    "# pssivated back face\n",
    "#x,y = np.where(geom_map==3)\n",
    "#V[x,y] = 0.0 "
   ]
  },
  {
   "cell_type": "code",
   "execution_count": 573,
   "metadata": {
    "collapsed": false
   },
   "outputs": [
    {
     "data": {
      "text/plain": [
       "<matplotlib.colorbar.Colorbar at 0x125eed518>"
      ]
     },
     "execution_count": 573,
     "metadata": {},
     "output_type": "execute_result"
    },
    {
     "data": {
      "image/png": "[encoded data removed]",
      "text/plain": [
       "<matplotlib.figure.Figure at 0x1262e02b0>"
      ]
     },
     "metadata": {},
     "output_type": "display_data"
    }
   ],
   "source": [
    "# inspect the intial conditions for V\n",
    "plt.contourf(V,100,interpolation=\"None\")\n",
    "plt.grid(\"on\")\n",
    "plt.xlabel('Pixel #')\n",
    "plt.ylabel('Pixel #')\n",
    "plt.colorbar()"
   ]
  },
  {
   "cell_type": "code",
   "execution_count": 574,
   "metadata": {
    "collapsed": true,
    "scrolled": true
   },
   "outputs": [],
   "source": [
    "# do the relaxation\n",
    "e0 = 8.85e-12\n",
    "\n",
    "# set maximum number of iterations\n",
    "max_iters = 1000\n",
    "\n",
    "# relaxation factor to speed up convergence\n",
    "t = np.cos(3.14/N_xelements) + np.cos(3.14/N_yelements)\n",
    "w = (8 - np.sqrt(64 - 16*t*t)) / (t*t)\n",
    "\n",
    "# convert charge to C/m\n",
    "charge = charge * (pixel_size_mm*pixel_size_mm) * 1.6e-19\n",
    "\n",
    "# initialise a couple of arrays\n",
    "R = np.zeros((N_xelements, N_yelements), dtype=float)\n",
    "resid_store = np.zeros(max_iters)\n",
    "\n",
    "depletion_map = np.ones((N_xelements, N_yelements), dtype=int)\n",
    "\n",
    "# perform relaxation...\n",
    "resid = 1e6\n",
    "iterr = 1\n",
    "min_resid = 0.01\n",
    "while (iterr < max_iters and resid > min_resid):    \n",
    "    \n",
    "    # loop over detector grid points\n",
    "    for y in range(0, N_yelements):\n",
    "        for x in range(0, N_xelements):\n",
    "                        \n",
    "            # skip non-Ge\n",
    "            if (geom_map[x,y] != 0):\n",
    "                continue\n",
    "            \n",
    "            # calculate coefficients\n",
    "            a0 = epsilon[x,y] + epsilon[x-1,y] + epsilon[x,y-1] + epsilon[x-1,y-1]\n",
    "            a1 = 0.5*(epsilon[x,y] + epsilon[x,y-1])\n",
    "            a2 = 0.5*(epsilon[x-1,y] + epsilon[x,y])\n",
    "            a3 = 0.5*(epsilon[x-1,y-1] + epsilon[x-1,y])\n",
    "            a4 = 0.5*(epsilon[x,y-1] + epsilon[x-1,y-1])\n",
    "            \n",
    "            # calculate sum of forward pixels which we will then add to\n",
    "            V_local_sum = a1*V[x+1,y] + a2*V[x,y+1]\n",
    "\n",
    "            Vmin = min(V[x+1,y], V[x,y+1])\n",
    "            \n",
    "            if (y > 0):\n",
    "                V_local_sum += a4*V[x,y-1]\n",
    "                Vmin = min(Vmin, V[x,y-1])\n",
    "            else:\n",
    "                V_local_sum += a2*V[x,y+1]\n",
    "                \n",
    "            if (x > 0):\n",
    "                V_local_sum += a3*V[x-1,y]\n",
    "                Vmin = min(Vmin, V[x-1,y])\n",
    "            else:\n",
    "                V_local_sum += a1*V[x+1,y]\n",
    "            \n",
    "            # calculate residual and update\n",
    "            charge_term = (charge[x+1,y] + charge[x,y+1] + charge[x-1,y] + charge[x,y-1])*pixel_size_mm*pixel_size_mm\n",
    "            R[x,y] = (1/a0)*(V_local_sum + charge_term/e0) - V[x,y]\n",
    "            \n",
    "            # update potential\n",
    "            V[x,y] = V[x,y] + w*R[x,y]\n",
    "            \n",
    "            #if (V[x,y] < Vmin):\n",
    "            #    V[x,y] = Vmin\n",
    "            #    depletion_map[x,y] = 0\n",
    "            \n",
    "    # store and residual\n",
    "    resid = abs(np.sum(R))\n",
    "    resid_store[iterr] = resid\n",
    "    \n",
    "    # update iteration counter\n",
    "    iterr+=1\n"
   ]
  },
  {
   "cell_type": "code",
   "execution_count": 575,
   "metadata": {
    "collapsed": false,
    "scrolled": true
   },
   "outputs": [
    {
     "data": {
      "image/png": "[encoded data removed]",
      "text/plain": [
       "<matplotlib.figure.Figure at 0x125edb0b8>"
      ]
     },
     "metadata": {},
     "output_type": "display_data"
    },
    {
     "name": "stdout",
     "output_type": "stream",
     "text": [
      "Final Difference:\n",
      "0.00969159564676\n"
     ]
    }
   ],
   "source": [
    "resid_store = resid_store[1:iterr]\n",
    "plt.plot(np.arange(1,iterr), resid_store)\n",
    "plt.grid(\"on\")\n",
    "plt.xlabel(\"Iteration Number\")\n",
    "plt.ylabel(\"Difference\")\n",
    "plt.yscale(\"log\")\n",
    "plt.show()\n",
    "\n",
    "print(\"Final Difference:\")\n",
    "print(resid_store[-1])\n"
   ]
  },
  {
   "cell_type": "code",
   "execution_count": 576,
   "metadata": {
    "collapsed": true
   },
   "outputs": [],
   "source": [
    "# mirror symmetry around x = 0\n",
    "Vfinal = np.flipud(V)\n",
    "Vfinal = np.append(Vfinal, V, axis=0)"
   ]
  },
  {
   "cell_type": "code",
   "execution_count": 577,
   "metadata": {
    "collapsed": false
   },
   "outputs": [
    {
     "data": {
      "text/plain": [
       "<matplotlib.colorbar.Colorbar at 0x12563e438>"
      ]
     },
     "execution_count": 577,
     "metadata": {},
     "output_type": "execute_result"
    },
    {
     "data": {
      "image/png": "[encoded data removed]",
      "text/plain": [
       "<matplotlib.figure.Figure at 0x125e7c5c0>"
      ]
     },
     "metadata": {},
     "output_type": "display_data"
    }
   ],
   "source": [
    "# plot potential\n",
    "plt.imshow(Vfinal, interpolation=\"None\", cmap=\"jet\", vmin=0.1)\n",
    "plt.colorbar()"
   ]
  },
  {
   "cell_type": "code",
   "execution_count": 578,
   "metadata": {
    "collapsed": false
   },
   "outputs": [
    {
     "data": {
      "image/png": "[encoded data removed]",
      "text/plain": [
       "<matplotlib.figure.Figure at 0x1259d55c0>"
      ]
     },
     "metadata": {},
     "output_type": "display_data"
    },
    {
     "data": {
      "image/png": "[encoded data removed]",
      "text/plain": [
       "<matplotlib.figure.Figure at 0x1259d5400>"
      ]
     },
     "metadata": {},
     "output_type": "display_data"
    }
   ],
   "source": [
    "# plot potential/field slices\n",
    "x_slice = 40\n",
    "y_slice = 50\n",
    "\n",
    "\n",
    "plt.plot(Vfinal[x_slice,:])\n",
    "plt.grid(\"on\")\n",
    "plt.show()\n",
    "\n",
    "plt.plot(Vfinal[:,y_slice])\n",
    "plt.grid(\"on\")\n",
    "plt.show()"
   ]
  },
  {
   "cell_type": "code",
   "execution_count": null,
   "metadata": {
    "collapsed": true
   },
   "outputs": [],
   "source": []
  }
 ],
 "metadata": {
  "anaconda-cloud": {},
  "kernelspec": {
   "display_name": "Python [conda root]",
   "language": "python",
   "name": "conda-root-py"
  },
  "language_info": {
   "codemirror_mode": {
    "name": "ipython",
    "version": 3
   },
   "file_extension": ".py",
   "mimetype": "text/x-python",
   "name": "python",
   "nbconvert_exporter": "python",
   "pygments_lexer": "ipython3",
   "version": "3.5.2"
  }
 },
 "nbformat": 4,
 "nbformat_minor": 2
}
